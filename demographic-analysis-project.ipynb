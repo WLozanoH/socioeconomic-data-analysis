{
 "cells": [
  {
   "cell_type": "markdown",
   "metadata": {},
   "source": [
    "# \"Impacto de la Educación y la Ocupación en los Ingresos: Un Análisis Demográfico Global\""
   ]
  },
  {
   "cell_type": "markdown",
   "metadata": {},
   "source": [
    "\n",
    "Este proyecto analiza un conjunto de datos globales para identificar cómo factores demográficos y socioeconómicos, como la educación, la ocupación, la raza y el país de origen, influyen en los ingresos de los adultos. A través de preguntas clave, se exploran patrones relacionados con salarios mayores a 50k, distribuciones por nivel educativo, ocupaciones más comunes y diferencias entre grupos demográficos. El objetivo es proporcionar una visión clara y estructurada de las dinámicas económicas y sociales presentes en diferentes contextos."
   ]
  },
  {
   "cell_type": "markdown",
   "metadata": {},
   "source": [
    "✅Puedes descargar el set de datos 'adult.data.csv' aquí: 👉👉 https://github.com/WLozanoH/socioeconomic-data-analysis/blob/main/adult.data.zip\n"
   ]
  },
  {
   "cell_type": "code",
   "execution_count": 1,
   "metadata": {},
   "outputs": [],
   "source": [
    "#Importamos las librerías a utilizar\n",
    "import pandas as pd"
   ]
  },
  {
   "cell_type": "code",
   "execution_count": 2,
   "metadata": {},
   "outputs": [
    {
     "data": {
      "text/html": [
       "<div>\n",
       "<style scoped>\n",
       "    .dataframe tbody tr th:only-of-type {\n",
       "        vertical-align: middle;\n",
       "    }\n",
       "\n",
       "    .dataframe tbody tr th {\n",
       "        vertical-align: top;\n",
       "    }\n",
       "\n",
       "    .dataframe thead th {\n",
       "        text-align: right;\n",
       "    }\n",
       "</style>\n",
       "<table border=\"1\" class=\"dataframe\">\n",
       "  <thead>\n",
       "    <tr style=\"text-align: right;\">\n",
       "      <th></th>\n",
       "      <th>age</th>\n",
       "      <th>workclass</th>\n",
       "      <th>fnlwgt</th>\n",
       "      <th>education</th>\n",
       "      <th>education-num</th>\n",
       "      <th>marital-status</th>\n",
       "      <th>occupation</th>\n",
       "      <th>relationship</th>\n",
       "      <th>race</th>\n",
       "      <th>sex</th>\n",
       "      <th>capital-gain</th>\n",
       "      <th>capital-loss</th>\n",
       "      <th>hours-per-week</th>\n",
       "      <th>native-country</th>\n",
       "      <th>salary</th>\n",
       "    </tr>\n",
       "  </thead>\n",
       "  <tbody>\n",
       "    <tr>\n",
       "      <th>0</th>\n",
       "      <td>39</td>\n",
       "      <td>State-gov</td>\n",
       "      <td>77516</td>\n",
       "      <td>Bachelors</td>\n",
       "      <td>13</td>\n",
       "      <td>Never-married</td>\n",
       "      <td>Adm-clerical</td>\n",
       "      <td>Not-in-family</td>\n",
       "      <td>White</td>\n",
       "      <td>Male</td>\n",
       "      <td>2174</td>\n",
       "      <td>0</td>\n",
       "      <td>40</td>\n",
       "      <td>United-States</td>\n",
       "      <td>&lt;=50K</td>\n",
       "    </tr>\n",
       "    <tr>\n",
       "      <th>1</th>\n",
       "      <td>50</td>\n",
       "      <td>Self-emp-not-inc</td>\n",
       "      <td>83311</td>\n",
       "      <td>Bachelors</td>\n",
       "      <td>13</td>\n",
       "      <td>Married-civ-spouse</td>\n",
       "      <td>Exec-managerial</td>\n",
       "      <td>Husband</td>\n",
       "      <td>White</td>\n",
       "      <td>Male</td>\n",
       "      <td>0</td>\n",
       "      <td>0</td>\n",
       "      <td>13</td>\n",
       "      <td>United-States</td>\n",
       "      <td>&lt;=50K</td>\n",
       "    </tr>\n",
       "    <tr>\n",
       "      <th>2</th>\n",
       "      <td>38</td>\n",
       "      <td>Private</td>\n",
       "      <td>215646</td>\n",
       "      <td>HS-grad</td>\n",
       "      <td>9</td>\n",
       "      <td>Divorced</td>\n",
       "      <td>Handlers-cleaners</td>\n",
       "      <td>Not-in-family</td>\n",
       "      <td>White</td>\n",
       "      <td>Male</td>\n",
       "      <td>0</td>\n",
       "      <td>0</td>\n",
       "      <td>40</td>\n",
       "      <td>United-States</td>\n",
       "      <td>&lt;=50K</td>\n",
       "    </tr>\n",
       "    <tr>\n",
       "      <th>3</th>\n",
       "      <td>53</td>\n",
       "      <td>Private</td>\n",
       "      <td>234721</td>\n",
       "      <td>11th</td>\n",
       "      <td>7</td>\n",
       "      <td>Married-civ-spouse</td>\n",
       "      <td>Handlers-cleaners</td>\n",
       "      <td>Husband</td>\n",
       "      <td>Black</td>\n",
       "      <td>Male</td>\n",
       "      <td>0</td>\n",
       "      <td>0</td>\n",
       "      <td>40</td>\n",
       "      <td>United-States</td>\n",
       "      <td>&lt;=50K</td>\n",
       "    </tr>\n",
       "    <tr>\n",
       "      <th>4</th>\n",
       "      <td>28</td>\n",
       "      <td>Private</td>\n",
       "      <td>338409</td>\n",
       "      <td>Bachelors</td>\n",
       "      <td>13</td>\n",
       "      <td>Married-civ-spouse</td>\n",
       "      <td>Prof-specialty</td>\n",
       "      <td>Wife</td>\n",
       "      <td>Black</td>\n",
       "      <td>Female</td>\n",
       "      <td>0</td>\n",
       "      <td>0</td>\n",
       "      <td>40</td>\n",
       "      <td>Cuba</td>\n",
       "      <td>&lt;=50K</td>\n",
       "    </tr>\n",
       "  </tbody>\n",
       "</table>\n",
       "</div>"
      ],
      "text/plain": [
       "   age         workclass  fnlwgt  education  education-num  \\\n",
       "0   39         State-gov   77516  Bachelors             13   \n",
       "1   50  Self-emp-not-inc   83311  Bachelors             13   \n",
       "2   38           Private  215646    HS-grad              9   \n",
       "3   53           Private  234721       11th              7   \n",
       "4   28           Private  338409  Bachelors             13   \n",
       "\n",
       "       marital-status         occupation   relationship   race     sex  \\\n",
       "0       Never-married       Adm-clerical  Not-in-family  White    Male   \n",
       "1  Married-civ-spouse    Exec-managerial        Husband  White    Male   \n",
       "2            Divorced  Handlers-cleaners  Not-in-family  White    Male   \n",
       "3  Married-civ-spouse  Handlers-cleaners        Husband  Black    Male   \n",
       "4  Married-civ-spouse     Prof-specialty           Wife  Black  Female   \n",
       "\n",
       "   capital-gain  capital-loss  hours-per-week native-country salary  \n",
       "0          2174             0              40  United-States  <=50K  \n",
       "1             0             0              13  United-States  <=50K  \n",
       "2             0             0              40  United-States  <=50K  \n",
       "3             0             0              40  United-States  <=50K  \n",
       "4             0             0              40           Cuba  <=50K  "
      ]
     },
     "execution_count": 2,
     "metadata": {},
     "output_type": "execute_result"
    }
   ],
   "source": [
    "#cargamos el archivo el archivo 'csv'\n",
    "df = pd.read_csv('adult.data.csv')\n",
    "df.head()"
   ]
  },
  {
   "cell_type": "code",
   "execution_count": 3,
   "metadata": {},
   "outputs": [
    {
     "name": "stdout",
     "output_type": "stream",
     "text": [
      "<class 'pandas.core.frame.DataFrame'>\n",
      "RangeIndex: 32561 entries, 0 to 32560\n",
      "Data columns (total 15 columns):\n",
      " #   Column          Non-Null Count  Dtype \n",
      "---  ------          --------------  ----- \n",
      " 0   age             32561 non-null  int64 \n",
      " 1   workclass       32561 non-null  object\n",
      " 2   fnlwgt          32561 non-null  int64 \n",
      " 3   education       32561 non-null  object\n",
      " 4   education-num   32561 non-null  int64 \n",
      " 5   marital-status  32561 non-null  object\n",
      " 6   occupation      32561 non-null  object\n",
      " 7   relationship    32561 non-null  object\n",
      " 8   race            32561 non-null  object\n",
      " 9   sex             32561 non-null  object\n",
      " 10  capital-gain    32561 non-null  int64 \n",
      " 11  capital-loss    32561 non-null  int64 \n",
      " 12  hours-per-week  32561 non-null  int64 \n",
      " 13  native-country  32561 non-null  object\n",
      " 14  salary          32561 non-null  object\n",
      "dtypes: int64(6), object(9)\n",
      "memory usage: 3.7+ MB\n"
     ]
    }
   ],
   "source": [
    "df.info() #no hay valores nulos"
   ]
  },
  {
   "cell_type": "markdown",
   "metadata": {},
   "source": [
    "# Analizando el dataset 📉📚"
   ]
  },
  {
   "cell_type": "markdown",
   "metadata": {},
   "source": [
    "📌 1. ¿Cuántas personas de cada raza están representadas en este set de datos?"
   ]
  },
  {
   "cell_type": "code",
   "execution_count": 4,
   "metadata": {},
   "outputs": [
    {
     "name": "stdout",
     "output_type": "stream",
     "text": [
      "La cantidad de cada raza es:\n",
      "\n",
      "White - cantidad: 27816\n",
      "Black - cantidad: 3124\n",
      "Asian-Pac-Islander - cantidad: 1039\n",
      "Amer-Indian-Eskimo - cantidad: 311\n",
      "Other - cantidad: 271\n"
     ]
    }
   ],
   "source": [
    "cantidad_razas = df['race'].value_counts()\n",
    "print('La cantidad de cada raza es:\\n')\n",
    "for raza in cantidad_razas.index:\n",
    "    print(f'{raza} - cantidad: {cantidad_razas[raza]}')"
   ]
  },
  {
   "cell_type": "markdown",
   "metadata": {},
   "source": [
    "📌 2. ¿Cuál es la edad promedio de los hombres?"
   ]
  },
  {
   "cell_type": "code",
   "execution_count": 5,
   "metadata": {},
   "outputs": [
    {
     "name": "stdout",
     "output_type": "stream",
     "text": [
      "La edad promedio de los hombres es: 39 años\n"
     ]
    }
   ],
   "source": [
    "# Filtramos valores para sexo = 'Male'\n",
    "df_hombres = df[df['sex'] == 'Male']\n",
    "\n",
    "# Sacamos el promedio de la edad de los hombres\n",
    "promedio_edad_hombres = df_hombres['age'].mean()\n",
    "promedio_edad_hombres = round(promedio_edad_hombres)\n",
    "print(f'La edad promedio de los hombres es: {promedio_edad_hombres} años')"
   ]
  },
  {
   "cell_type": "markdown",
   "metadata": {},
   "source": [
    "📌 3. ¿Cuál es el porcentaje de personas que tienen un grado de licenciatura (Bachelor's degree)?"
   ]
  },
  {
   "cell_type": "code",
   "execution_count": 6,
   "metadata": {},
   "outputs": [
    {
     "data": {
      "text/plain": [
       "education\n",
       "HS-grad         10501\n",
       "Some-college     7291\n",
       "Bachelors        5355\n",
       "Masters          1723\n",
       "Assoc-voc        1382\n",
       "11th             1175\n",
       "Assoc-acdm       1067\n",
       "10th              933\n",
       "7th-8th           646\n",
       "Prof-school       576\n",
       "9th               514\n",
       "12th              433\n",
       "Doctorate         413\n",
       "5th-6th           333\n",
       "1st-4th           168\n",
       "Preschool          51\n",
       "Name: count, dtype: int64"
      ]
     },
     "execution_count": 6,
     "metadata": {},
     "output_type": "execute_result"
    }
   ],
   "source": [
    "df['education'].value_counts()"
   ]
  },
  {
   "cell_type": "code",
   "execution_count": 7,
   "metadata": {},
   "outputs": [
    {
     "name": "stdout",
     "output_type": "stream",
     "text": [
      "El porcentaje de personas con grado de educación 'Bachelor' es: 16.45%.\n"
     ]
    }
   ],
   "source": [
    "#paso 1: filtrar personas con educación = 'Bachelors'\n",
    "bachelors = df[df['education'] == 'Bachelors']\n",
    "\n",
    "#paso 2: Hallamos el total de personas con 'education' = 'Bachelors'\n",
    "total_bachelors = len(bachelors) # o bachelors.shape[0]\n",
    "\n",
    "#paso 3: Hallar cantidad total de datos\n",
    "cantidad_total = len(df)\n",
    "\n",
    "#Paso 4: Hallar la proporción de personas que tienen educación = 'bachelors'\n",
    "porcentaje_bachelor = (total_bachelors / cantidad_total) * 100\n",
    "porcentaje_bachelor = round(porcentaje_bachelor, 2) #redondear a dos decimales\n",
    "print(f\"El porcentaje de personas con grado de educación 'Bachelor' es: {porcentaje_bachelor}%.\")"
   ]
  },
  {
   "cell_type": "markdown",
   "metadata": {},
   "source": [
    "📌 4. ¿Qué porcentaje de personas con una educación avanzada (Bachelors, Masters o Doctorate) ganan más de 50k?"
   ]
  },
  {
   "cell_type": "code",
   "execution_count": 8,
   "metadata": {},
   "outputs": [
    {
     "data": {
      "text/plain": [
       "salary\n",
       "<=50K    24720\n",
       ">50K      7841\n",
       "Name: count, dtype: int64"
      ]
     },
     "execution_count": 8,
     "metadata": {},
     "output_type": "execute_result"
    }
   ],
   "source": [
    "df['salary'].value_counts()"
   ]
  },
  {
   "cell_type": "code",
   "execution_count": 9,
   "metadata": {},
   "outputs": [
    {
     "name": "stdout",
     "output_type": "stream",
     "text": [
      "El porcentaje de personas con educación avanzada que gana más de 50k es:\n",
      "\n",
      " Porcentaje:46.54%.\n"
     ]
    }
   ],
   "source": [
    "#filtramos las personas con educación avanzada\n",
    "educación_avanzada = df[df['education'].isin(['Bachelors', 'Masters', 'Doctorate'])]\n",
    "\n",
    "#Hallamos la cantidad de personas con educación avanzada\n",
    "total_educación_avanzada = len(educación_avanzada)\n",
    "\n",
    "#Filtramos las personas que ganan más de 50k, con educación avanzada\n",
    "mas_50k = educación_avanzada[educación_avanzada['salary'] == '>50K']\n",
    "\n",
    "#Hallamos la cantidad de personas que ganan más de 50k, con educación avanzada\n",
    "total_mas_50k = len(mas_50k)\n",
    "\n",
    "#Hallamos el porcentaje de personas que ganan más de 50k, con educación avanzada\n",
    "porcentaje_mas_50k = (total_mas_50k / total_educación_avanzada) * 100\n",
    "porcentaje_mas_50k = round(porcentaje_mas_50k,2)\n",
    "\n",
    "print(f'El porcentaje de personas con educación avanzada que gana más de 50k es:\\n\\n Porcentaje:{porcentaje_mas_50k}%.')"
   ]
  },
  {
   "cell_type": "markdown",
   "metadata": {},
   "source": [
    "📌 5: ¿Qué porcentaje de personas sin una educación avanzada generan más de 50k?"
   ]
  },
  {
   "cell_type": "code",
   "execution_count": 10,
   "metadata": {},
   "outputs": [
    {
     "name": "stdout",
     "output_type": "stream",
     "text": [
      "El porcentaje de personas sin educación avanzada que gana más de 50k es:\n",
      "\n",
      " Porcentaje:17.37%.\n"
     ]
    }
   ],
   "source": [
    "#filtramos las personas con educación avanzada\n",
    "sin_educación_avanzada = df[~df['education'].isin(['Bachelors', 'Masters', 'Doctorate'])]\n",
    "\n",
    "#Hallamos la cantidad de personas sin educación avanzada\n",
    "total_sin_educación_avanzada = len(sin_educación_avanzada)\n",
    "\n",
    "#Filtramos las personas que ganan más de 50k, sin educación avanzada\n",
    "mas_50k = sin_educación_avanzada[sin_educación_avanzada['salary'] == '>50K']\n",
    "\n",
    "#Hallamos la cantidad de personas que ganan más de 50k, sin educación avanzada\n",
    "total_mas_50k = len(mas_50k)\n",
    "\n",
    "#Hallamos el porcentaje de personas que ganan más de 50k, con educación avanzada\n",
    "porcentaje_mas_50k = (total_mas_50k / total_sin_educación_avanzada) * 100\n",
    "porcentaje_mas_50k = round(porcentaje_mas_50k,2)\n",
    "\n",
    "print(f'El porcentaje de personas sin educación avanzada que gana más de 50k es:\\n\\n Porcentaje:{porcentaje_mas_50k}%.')"
   ]
  },
  {
   "cell_type": "markdown",
   "metadata": {},
   "source": [
    "📌 6. ¿Cuál es el mínimo número de horas que una persona trabaja por semana?"
   ]
  },
  {
   "cell_type": "code",
   "execution_count": 11,
   "metadata": {},
   "outputs": [
    {
     "name": "stdout",
     "output_type": "stream",
     "text": [
      "El mínimo de horas que trabaja una persona por semana es: 1 hora(s).\n"
     ]
    }
   ],
   "source": [
    "minimo_horas = df['hours-per-week'].min()\n",
    "\n",
    "print(f'El mínimo de horas que trabaja una persona por semana es: {minimo_horas} hora(s).')"
   ]
  },
  {
   "cell_type": "markdown",
   "metadata": {},
   "source": [
    "📌 7. ¿Qué porcentaje de personas que trabajan el mínimo de horas por semana tiene un salario de más de 50k?"
   ]
  },
  {
   "cell_type": "code",
   "execution_count": 12,
   "metadata": {},
   "outputs": [
    {
     "name": "stdout",
     "output_type": "stream",
     "text": [
      "El porcentaje de personas que ganan más de 50k y trabajan el mínimo de horas es:\n",
      "\n",
      " Porcentaje: 10.0%.\n"
     ]
    }
   ],
   "source": [
    "#filtramos la data por las personas que trabajan un minimo de horas\n",
    "df_minimo_horas = df[df['hours-per-week'] == minimo_horas]\n",
    "\n",
    "#Hallamos la cantidad de personas que trabajan el minimo de horas\n",
    "total_minimo_horas = len(df_minimo_horas)\n",
    "\n",
    "#Filtramos las personas que ganan más de 50k y trabajan un minimo de horas\n",
    "mas_50k = df_minimo_horas[df_minimo_horas['salary'] == '>50K']\n",
    "\n",
    "#contamos la cantidad de personas que ganan más de 50k y trabajan un minimo de horas\n",
    "total_mas_50k = len(mas_50k)\n",
    "\n",
    "#Hallamos el porcentaje de personas que ganan mas de 50k y trabajan un minimo de horas.\n",
    "porcentaje = (total_mas_50k/total_minimo_horas) *100\n",
    "porcentaje = round(porcentaje,2)\n",
    "\n",
    "print(f'El porcentaje de personas que ganan más de 50k y trabajan el mínimo de horas es:\\n\\n Porcentaje: {porcentaje}%.')"
   ]
  },
  {
   "cell_type": "markdown",
   "metadata": {},
   "source": [
    "📌 8. ¿Qué país tiene el porcentaje más alto de personas que ganan >50k y cuál es ese porcentaje?"
   ]
  },
  {
   "cell_type": "code",
   "execution_count": 13,
   "metadata": {},
   "outputs": [
    {
     "name": "stdout",
     "output_type": "stream",
     "text": [
      "El país con el porcentaje más alto de personas que ganan más de 50k es: \n",
      "país: Iran\n",
      "porcentaje: 41.86%.\n"
     ]
    }
   ],
   "source": [
    "#Agrupamos los datos por país y contamos los datos con value_counts()\n",
    "cantidad_salario = df.groupby('native-country')['salary'].value_counts()\n",
    "\n",
    "# Lo convertimos en un data frame con unstack()\n",
    "cantidad_salario = cantidad_salario.unstack()\n",
    "\n",
    "# Calculamos el salario por país\n",
    "cantidad_salario['total'] = cantidad_salario['<=50K'] + cantidad_salario['>50K']\n",
    "\n",
    "#calculamos el porcentaje de personas que ganan más de 50k por país\n",
    "cantidad_salario['>50K'] = (cantidad_salario['>50K']/cantidad_salario['total'])*100\n",
    "\n",
    "#filtramos el país por índica para encontrar el país con mayor porcentaje de personas que ganan más de 50k\n",
    "país_max_porcentaje = cantidad_salario['>50K'].idxmax()\n",
    "\n",
    "#filtramos el porcentaje más alto correspondiente al país\n",
    "max_porcentaje = cantidad_salario['>50K'].max()\n",
    "max_porcentaje = round(max_porcentaje,2)\n",
    "\n",
    "print(f'El país con el porcentaje más alto de personas que ganan más de 50k es: ')\n",
    "print(f'país: {país_max_porcentaje}')\n",
    "print(f'porcentaje: {max_porcentaje}%.')\n",
    "\n"
   ]
  },
  {
   "cell_type": "markdown",
   "metadata": {},
   "source": [
    "📌 9. Identifica la ocupación más popular de aquellos que ganan >50k en India."
   ]
  },
  {
   "cell_type": "code",
   "execution_count": 14,
   "metadata": {},
   "outputs": [
    {
     "name": "stdout",
     "output_type": "stream",
     "text": [
      "La ocupación más popular en la India entre las personas que ganan más de 50k es:\n",
      "ocupación: Prof-specialty.\n",
      "cantidad: 25 personas.\n"
     ]
    }
   ],
   "source": [
    "#Filtramos los valores por país == India y salary == '>50K'\n",
    "df_filtrada = df[(df['native-country'] == 'India') & (df['salary'] == '>50K')] \n",
    "\n",
    "#Hallamos la ocupación más popular\n",
    "ocupación_popular = df_filtrada['occupation'].value_counts()\n",
    "\n",
    "#Determinar la ocupación más popular\n",
    "ocupación_más_popular = ocupación_popular.idxmax()\n",
    "cantidad_más_popular = ocupación_popular.max()\n",
    "\n",
    "print(f'La ocupación más popular en la India entre las personas que ganan más de 50k es:')\n",
    "print(f'ocupación: {ocupación_más_popular}.\\ncantidad: {cantidad_más_popular} personas.')"
   ]
  },
  {
   "cell_type": "markdown",
   "metadata": {},
   "source": [
    "📝Conclusiones del Proyecto\n",
    "\n",
    "Este proyecto demuestra cómo factores como la educación, ocupación, raza y país de origen impactan significativamente en los ingresos. Entre los hallazgos más relevantes destacan:\n",
    "\n",
    "1. Educación e ingresos:\n",
    "\n",
    "    Casi la mitad (46.54%) de las personas con educación avanzada (licenciatura, maestría o doctorado) ganan más de 50k, en comparación con solo el 17.37% de quienes no tienen este nivel educativo.\n",
    "\n",
    "2. Distribución geográfica y ocupacional:\n",
    "\n",
    "    Irán tiene el mayor porcentaje de personas con ingresos superiores a 50k (41.86%).\n",
    "    En India, los profesionales especializados son el grupo más representado entre quienes ganan más de 50k.\n",
    "\n",
    "3. Horas trabajadas y salarios:\n",
    "\n",
    "    El mínimo de horas trabajadas por semana es 1 hora, pero solo el 10% de las personas que trabajan este mínimo ganan más de 50k.\n",
    "\n",
    "El análisis pone de manifiesto habilidades avanzadas en manipulación de datos, filtrado, agrupación y extracción de insights clave utilizando Python, lo que proporciona una visión clara de las dinámicas económicas y sociodemográficas."
   ]
  },
  {
   "cell_type": "markdown",
   "metadata": {},
   "source": [
    "📝Resumen de Habilidades Utilizadas:\n",
    "\n",
    "    ✅Manipulación de datos con Pandas: limpieza, filtrado, agrupación y transformación de datos.\n",
    "    ✅Cálculo de estadísticas descriptivas y porcentajes para extraer insights clave.\n",
    "    ✅Interpretación de datos socioeconómicos para destacar patrones y relaciones complejas."
   ]
  }
 ],
 "metadata": {
  "kernelspec": {
   "display_name": "base",
   "language": "python",
   "name": "python3"
  },
  "language_info": {
   "codemirror_mode": {
    "name": "ipython",
    "version": 3
   },
   "file_extension": ".py",
   "mimetype": "text/x-python",
   "name": "python",
   "nbconvert_exporter": "python",
   "pygments_lexer": "ipython3",
   "version": "3.12.4"
  }
 },
 "nbformat": 4,
 "nbformat_minor": 2
}
